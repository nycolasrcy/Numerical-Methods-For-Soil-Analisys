{
 "cells": [
  {
   "cell_type": "markdown",
   "metadata": {},
   "source": [
    "\n",
    "\n",
    "Nesse arquivo irei fazer o desenvolvimento da solução numérica via elementos finitos para problemas bidimensional de elasticidade! Esse modelo será usado juntamento do returning_mapping_algorithm do camclay modificado para implementação do programa de elementos finitos\n",
    "\n",
    "\n",
    "\n",
    "# Formulação Forte\n",
    "\n",
    "A formulação forte de um problema físico é definido pelo conjunto de equações diferenciais que descrevem o comportamento do modelo, juntamente de suas condições de contorno (essencias, naturais e/ ou mistas). No caso de problemas de elasticidade, temos 3 equações principais que descrevem o comportamento do modelo, a equação cinética, a equação de equilíbrio e a relação constitutiva.\n",
    "\n",
    "## Cinemática\n",
    "\n",
    "$$\n",
    "\\varepsilon_{xx} = \\lim_{\\Delta x\\rightarrow 0} \\frac{u_x (x + \\Delta x, y) - u_x (x,y)}{\\Delta x} = \\frac{\\partial u_x}{\\partial x}\n",
    "$$\n",
    "\n",
    "$$\n",
    "\\varepsilon_{yy} = \\lim_{\\Delta x\\rightarrow 0} \\frac{u_x (x , y + \\Delta y) - u_x (x,y)}{\\Delta x} = \\frac{\\partial u_x}{\\partial y}\n",
    "$$\n",
    "\n",
    "$$\n",
    "\\gamma_xy = \\lim_{\\Delta x\\rightarrow 0}\n",
    "$$\n",
    "\n",
    "## Equilíbrio\n",
    "\n",
    "## Relações Constitutivas"
   ]
  }
 ],
 "metadata": {
  "language_info": {
   "name": "python"
  }
 },
 "nbformat": 4,
 "nbformat_minor": 2
}
