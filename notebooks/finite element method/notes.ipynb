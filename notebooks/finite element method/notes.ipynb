{
 "cells": [
  {
   "cell_type": "markdown",
   "metadata": {},
   "source": [
    "Nesse arquivo irei fazer o desenvolvimento da solução numérica via elementos finitos para problemas bidimensional de elasticidade! Esse modelo será usado juntamento do returning_mapping_algorithm do camclay modificado para implementação do programa de elementos finitos\n",
    "\n",
    "\n",
    "\n",
    "# Formulação Forte\n",
    "\n",
    "A formulação forte de um problema físico é definido pelo conjunto de equações diferenciais que descrevem o comportamento do modelo, juntamente de suas condições de contorno (essencias, naturais e/ ou mistas). No caso de problemas de elasticidade, temos 3 equações principais que descrevem o comportamento do modelo, a equação cinética, a equação de equilíbrio e a relação constitutiva."
   ]
  }
 ],
 "metadata": {
  "language_info": {
   "name": "python"
  }
 },
 "nbformat": 4,
 "nbformat_minor": 2
}
