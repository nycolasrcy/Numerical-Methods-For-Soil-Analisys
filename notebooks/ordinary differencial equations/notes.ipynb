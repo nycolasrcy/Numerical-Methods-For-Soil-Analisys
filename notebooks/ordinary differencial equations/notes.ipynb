{
 "cells": [
  {
   "cell_type": "markdown",
   "metadata": {},
   "source": [
    "# <strong> 1 Método de Euler </strong>\n",
    "\n",
    "O **Método de Euler** é um método numérico usado para aproximação de equações diferenciais ordinárias (EDO) usando do método das diferenças finitas que, por sua vez, se baseia em expansões de séries de Taylor (basicamente tudo o que eu já desenvolvi no notebook de diferenças finitas). Considere uma equação diferencial ordinária:\n",
    "\n",
    "$$\n",
    "\\frac{dy}{dt} = f(t,y)\n",
    "$$\n",
    "\n",
    "## <strong> 1.1 Derivação do Método de Euler Progressivo (*Forward*) </strong>\n",
    "O método de Euler Progressivo (Forward) é um método implícito, o que significa que a derivada é avaliada no ponto futuro $t_{n+1}$. Expandimos novamente $y(t)$ usando Taylor, mas agora no ponto $t_{n+1}$:\n",
    "\n",
    "$$\n",
    "y(t+\\Delta t) = y(t) +  \\left[ \\frac{dy}{dt} \\right|_t \\Delta t +  \\left[ \\frac{d^2y}{dt^2} \\right|_t \\frac{\\Delta t^2}{2!} + \\cdots \\approx y(t) + \\left[ \\frac{dy}{dt} \\right|_t \\Delta t + O(\\Delta t^2)\n",
    "$$\n",
    "\n",
    "Isolando a derivada de 1º ordem:\n",
    "$$\n",
    "\\left[ \\frac{dy}{dt} \\right|_t \\approx  \\frac{y(t+\\Delta t) - y(t) }{\\Delta t}\n",
    "$$\n",
    "\n",
    "Substituindo na equação\n",
    "$$\n",
    "\\frac{y(t+\\Delta t) - y(t) }{\\Delta t} \\approx f(t,y) \\therefore y(t+\\Delta t) = y(t) + \\Delta t f(t,y)\n",
    "$$\n",
    "\n",
    "## <strong> 1.2 Derivação do Método de Euler Regresssivo (*Backward*) </strong>\n",
    "O método de Euler Regressiva (Backward) é um método explícito, o que significa que a derivada é avaliada no ponto anterior $t_{n}$. Expandimos novamente $y(t)$ usando Taylor no ponto $t_{n}$:\n",
    "\n",
    "$$\n",
    "y(t-\\Delta t) = y(t) -  \\left[ \\frac{dy}{dt} \\right|_t \\Delta t +  \\left[ \\frac{d^2y}{dt^2} \\right|_t \\frac{\\Delta t^2}{2!} + \\cdots \\approx y(t) - \\left[ \\frac{dy}{dt} \\right|_t \\Delta t + O(\\Delta t^2)\n",
    "$$\n",
    "\n",
    "Isolando a derivada de 1º ordem:\n",
    "$$\n",
    "\\left[ \\frac{dy}{dt} \\right|_t \\approx  \\frac{y(t) - y(t-\\Delta t) }{\\Delta t}\n",
    "$$\n",
    "\n",
    "Substituindo na equação:\n",
    "$$\n",
    "\\frac{y(t) - y(t-\\Delta t) }{\\Delta t} \\approx f(t,y) \\therefore y(t) = f(t,y) \\Delta t + y(t-\\Delta t)\n",
    "$$\n",
    "\n",
    "Essa é a equação do método de Euler backward, que é um método implícito, pois $y_{n+1}$ aparece em ambos os lados da equação e normalmente requer a solução de uma equação não linear para $y_{n+1}$.\n",
    "## <strong> 1.3 Derivação do Método de Crank-Nicolson (*Mid point*) </strong>\n",
    "\n",
    "O método de Crank-Nicolson é uma combinação entre o método de Euler forward e o método de Euler backward. Ele usa uma média da derivada em $t_{n}$ e $t_{n+1}$ e é frequentemente usado devido à sua estabilidade e precisão de segunda ordem.\n",
    "\n",
    "$$\n",
    "y(t +\\Delta t) = y(t) + \\left( \\left[ \\frac{dy}{dt} \\right|_{t+\\Delta t} + \\left[ \\frac{dy}{dt} \\right|_t \\right) \\frac{\\Delta t}{2} + O(\\Delta t^3) \\approx y(t) + \\left(  f(t, y) + f(t+\\Delta t, y + \\Delta y) \\right) \\frac{\\Delta t}{2} + O(\\Delta t^3)\n",
    "$$\n",
    "\n",
    "Essa é a equação do método de Crank-Nicolson, que é implicitamente dependente de $y_{n+1}$, semelhante ao método de Euler Regressivo. Normalmente, também requer a solução de um sistema de equações (se for uma equação diferencial parcial ou um sistema de EDOs)."
   ]
  },
  {
   "cell_type": "markdown",
   "metadata": {},
   "source": [
    "# <strong> 2. Método Generalizado de  <i>θ</i> </strong>\n",
    "\n",
    "O **Método Generalizado de $\\theta$** nada mais é que uma formulação única que abrange os métodos citados anteriormente baseados em diferenças finitas, através de um parâmetro. Metódos de $\\theta$ são da forma:\n",
    "\n",
    "$$\n",
    "y_{n+1} = y_{n} + \\Delta t \\left[ (1-\\theta)f(t_{n+1}, y_{n+1}) + \\theta f(t_{n}, y_{n}) \\right]\n",
    "$$\n",
    "\n",
    "Onde:\n",
    "- Se $\\theta = 1$ o método decaí para o método de Euler progressivo (explícito)\n",
    "- Se $\\theta \\in [0,1)$ o método decaí para métodos implicitos, como Euler regressivo ($\\theta = 0$) ou Cranck-Nicholson ($\\theta = 0.5$)"
   ]
  }
 ],
 "metadata": {
  "kernelspec": {
   "display_name": "Python 3",
   "language": "python",
   "name": "python3"
  },
  "language_info": {
   "codemirror_mode": {
    "name": "ipython",
    "version": 3
   },
   "file_extension": ".py",
   "mimetype": "text/x-python",
   "name": "python",
   "nbconvert_exporter": "python",
   "pygments_lexer": "ipython3",
   "version": "3.11.9"
  }
 },
 "nbformat": 4,
 "nbformat_minor": 2
}
